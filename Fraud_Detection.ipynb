{
  "nbformat": 4,
  "nbformat_minor": 0,
  "metadata": {
    "colab": {
      "name": "Fraud_Detection.ipynb",
      "version": "0.3.2",
      "provenance": [],
      "collapsed_sections": [],
      "include_colab_link": true
    },
    "kernelspec": {
      "name": "python3",
      "display_name": "Python 3"
    }
  },
  "cells": [
    {
      "cell_type": "markdown",
      "metadata": {
        "id": "view-in-github",
        "colab_type": "text"
      },
      "source": [
        "<a href=\"https://colab.research.google.com/github/Deepak5j/FraudDetection/blob/master/Fraud_Detection.ipynb\" target=\"_parent\"><img src=\"https://colab.research.google.com/assets/colab-badge.svg\" alt=\"Open In Colab\"/></a>"
      ]
    },
    {
      "cell_type": "markdown",
      "metadata": {
        "id": "CFciQKjif09X",
        "colab_type": "text"
      },
      "source": [
        "**Fraud Detection**\n",
        "\n",
        "Our Tasks\n",
        "- Explore the dataset/Visualize\n",
        "- Decide which features are important\n",
        "- Perform Machine Learning\n",
        "- Test the model on the testing set"
      ]
    },
    {
      "cell_type": "code",
      "metadata": {
        "id": "lyNAKyLKfkK2",
        "colab_type": "code",
        "colab": {}
      },
      "source": [
        "import numpy as np\n",
        "import sklearn as sk\n",
        "import pandas as pd\n",
        "import matplotlib.pyplot as plt\n",
        "from sklearn.preprocessing import scale #all feature  on same scale, for acuracy\n",
        "import random"
      ],
      "execution_count": 0,
      "outputs": []
    },
    {
      "cell_type": "code",
      "metadata": {
        "id": "ipZaYcd4hPxj",
        "colab_type": "code",
        "colab": {
          "base_uri": "https://localhost:8080/",
          "height": 226
        },
        "outputId": "714cb28c-3971-49ab-c08d-faddda8b29e2"
      },
      "source": [
        "df = pd.read_csv('creditcard.csv', low_memory=False)\n",
        "df = df.sample(frac=1).reset_index(drop=True)\n",
        "df.head()"
      ],
      "execution_count": 2,
      "outputs": [
        {
          "output_type": "execute_result",
          "data": {
            "text/html": [
              "<div>\n",
              "<style scoped>\n",
              "    .dataframe tbody tr th:only-of-type {\n",
              "        vertical-align: middle;\n",
              "    }\n",
              "\n",
              "    .dataframe tbody tr th {\n",
              "        vertical-align: top;\n",
              "    }\n",
              "\n",
              "    .dataframe thead th {\n",
              "        text-align: right;\n",
              "    }\n",
              "</style>\n",
              "<table border=\"1\" class=\"dataframe\">\n",
              "  <thead>\n",
              "    <tr style=\"text-align: right;\">\n",
              "      <th></th>\n",
              "      <th>Time</th>\n",
              "      <th>V1</th>\n",
              "      <th>V2</th>\n",
              "      <th>V3</th>\n",
              "      <th>V4</th>\n",
              "      <th>V5</th>\n",
              "      <th>V6</th>\n",
              "      <th>V7</th>\n",
              "      <th>V8</th>\n",
              "      <th>V9</th>\n",
              "      <th>V10</th>\n",
              "      <th>V11</th>\n",
              "      <th>V12</th>\n",
              "      <th>V13</th>\n",
              "      <th>V14</th>\n",
              "      <th>V15</th>\n",
              "      <th>V16</th>\n",
              "      <th>V17</th>\n",
              "      <th>V18</th>\n",
              "      <th>V19</th>\n",
              "      <th>V20</th>\n",
              "      <th>V21</th>\n",
              "      <th>V22</th>\n",
              "      <th>V23</th>\n",
              "      <th>V24</th>\n",
              "      <th>V25</th>\n",
              "      <th>V26</th>\n",
              "      <th>V27</th>\n",
              "      <th>V28</th>\n",
              "      <th>Amount</th>\n",
              "      <th>Class</th>\n",
              "    </tr>\n",
              "  </thead>\n",
              "  <tbody>\n",
              "    <tr>\n",
              "      <th>0</th>\n",
              "      <td>61768</td>\n",
              "      <td>1.239246</td>\n",
              "      <td>0.398756</td>\n",
              "      <td>0.316977</td>\n",
              "      <td>0.691124</td>\n",
              "      <td>-0.290193</td>\n",
              "      <td>-1.045873</td>\n",
              "      <td>0.167979</td>\n",
              "      <td>-0.264016</td>\n",
              "      <td>-0.122575</td>\n",
              "      <td>-0.316824</td>\n",
              "      <td>0.107607</td>\n",
              "      <td>0.776241</td>\n",
              "      <td>1.244415</td>\n",
              "      <td>-0.487784</td>\n",
              "      <td>0.983522</td>\n",
              "      <td>0.431987</td>\n",
              "      <td>-0.063040</td>\n",
              "      <td>-0.422126</td>\n",
              "      <td>-0.208283</td>\n",
              "      <td>0.003134</td>\n",
              "      <td>-0.270324</td>\n",
              "      <td>-0.751462</td>\n",
              "      <td>0.109057</td>\n",
              "      <td>0.373684</td>\n",
              "      <td>0.247099</td>\n",
              "      <td>0.090014</td>\n",
              "      <td>-0.018164</td>\n",
              "      <td>0.034611</td>\n",
              "      <td>10.99</td>\n",
              "      <td>0.0</td>\n",
              "    </tr>\n",
              "    <tr>\n",
              "      <th>1</th>\n",
              "      <td>30917</td>\n",
              "      <td>1.596761</td>\n",
              "      <td>-0.897180</td>\n",
              "      <td>-0.546978</td>\n",
              "      <td>-1.512685</td>\n",
              "      <td>-0.805331</td>\n",
              "      <td>-0.895616</td>\n",
              "      <td>-0.500491</td>\n",
              "      <td>-0.328926</td>\n",
              "      <td>-2.022378</td>\n",
              "      <td>1.516054</td>\n",
              "      <td>-1.349438</td>\n",
              "      <td>-1.632702</td>\n",
              "      <td>-0.275023</td>\n",
              "      <td>0.080286</td>\n",
              "      <td>0.424196</td>\n",
              "      <td>-0.493373</td>\n",
              "      <td>0.407605</td>\n",
              "      <td>0.119948</td>\n",
              "      <td>0.191901</td>\n",
              "      <td>-0.345124</td>\n",
              "      <td>-0.229662</td>\n",
              "      <td>-0.317377</td>\n",
              "      <td>-0.185781</td>\n",
              "      <td>-0.478166</td>\n",
              "      <td>0.761939</td>\n",
              "      <td>-0.029503</td>\n",
              "      <td>-0.011455</td>\n",
              "      <td>-0.001705</td>\n",
              "      <td>25.00</td>\n",
              "      <td>0.0</td>\n",
              "    </tr>\n",
              "    <tr>\n",
              "      <th>2</th>\n",
              "      <td>33761</td>\n",
              "      <td>0.287205</td>\n",
              "      <td>-1.282283</td>\n",
              "      <td>0.494269</td>\n",
              "      <td>1.417526</td>\n",
              "      <td>-0.964724</td>\n",
              "      <td>0.172540</td>\n",
              "      <td>0.165261</td>\n",
              "      <td>-0.005742</td>\n",
              "      <td>-0.050302</td>\n",
              "      <td>-0.059550</td>\n",
              "      <td>1.136641</td>\n",
              "      <td>1.265009</td>\n",
              "      <td>1.075213</td>\n",
              "      <td>0.146679</td>\n",
              "      <td>0.610028</td>\n",
              "      <td>0.912173</td>\n",
              "      <td>-1.074052</td>\n",
              "      <td>0.765074</td>\n",
              "      <td>-0.357448</td>\n",
              "      <td>0.881852</td>\n",
              "      <td>0.332585</td>\n",
              "      <td>-0.044253</td>\n",
              "      <td>-0.435917</td>\n",
              "      <td>0.020931</td>\n",
              "      <td>0.201822</td>\n",
              "      <td>-0.480953</td>\n",
              "      <td>-0.030052</td>\n",
              "      <td>0.106400</td>\n",
              "      <td>461.05</td>\n",
              "      <td>0.0</td>\n",
              "    </tr>\n",
              "    <tr>\n",
              "      <th>3</th>\n",
              "      <td>48793</td>\n",
              "      <td>-0.674871</td>\n",
              "      <td>1.645901</td>\n",
              "      <td>1.088233</td>\n",
              "      <td>2.416421</td>\n",
              "      <td>0.356133</td>\n",
              "      <td>0.765660</td>\n",
              "      <td>0.082356</td>\n",
              "      <td>0.680205</td>\n",
              "      <td>-1.791156</td>\n",
              "      <td>0.794522</td>\n",
              "      <td>0.024862</td>\n",
              "      <td>0.017307</td>\n",
              "      <td>0.290130</td>\n",
              "      <td>0.715216</td>\n",
              "      <td>0.633314</td>\n",
              "      <td>0.679380</td>\n",
              "      <td>-0.526353</td>\n",
              "      <td>0.815225</td>\n",
              "      <td>1.575766</td>\n",
              "      <td>0.218747</td>\n",
              "      <td>-0.175042</td>\n",
              "      <td>-0.597725</td>\n",
              "      <td>-0.097840</td>\n",
              "      <td>-0.870436</td>\n",
              "      <td>-0.263323</td>\n",
              "      <td>0.016459</td>\n",
              "      <td>0.249898</td>\n",
              "      <td>0.112974</td>\n",
              "      <td>5.52</td>\n",
              "      <td>0.0</td>\n",
              "    </tr>\n",
              "    <tr>\n",
              "      <th>4</th>\n",
              "      <td>74996</td>\n",
              "      <td>1.072018</td>\n",
              "      <td>-0.090983</td>\n",
              "      <td>-0.029986</td>\n",
              "      <td>0.177463</td>\n",
              "      <td>-0.311051</td>\n",
              "      <td>-1.061333</td>\n",
              "      <td>0.451472</td>\n",
              "      <td>-0.259984</td>\n",
              "      <td>-0.169047</td>\n",
              "      <td>-0.207769</td>\n",
              "      <td>0.355845</td>\n",
              "      <td>0.459644</td>\n",
              "      <td>-0.028563</td>\n",
              "      <td>0.532564</td>\n",
              "      <td>1.021601</td>\n",
              "      <td>-0.349114</td>\n",
              "      <td>0.228322</td>\n",
              "      <td>-1.538996</td>\n",
              "      <td>-0.231960</td>\n",
              "      <td>0.063141</td>\n",
              "      <td>-0.279335</td>\n",
              "      <td>-1.011270</td>\n",
              "      <td>0.141320</td>\n",
              "      <td>0.439928</td>\n",
              "      <td>0.060541</td>\n",
              "      <td>0.703897</td>\n",
              "      <td>-0.107268</td>\n",
              "      <td>0.015234</td>\n",
              "      <td>96.00</td>\n",
              "      <td>0.0</td>\n",
              "    </tr>\n",
              "  </tbody>\n",
              "</table>\n",
              "</div>"
            ],
            "text/plain": [
              "    Time        V1        V2        V3  ...       V27       V28  Amount  Class\n",
              "0  61768  1.239246  0.398756  0.316977  ... -0.018164  0.034611   10.99    0.0\n",
              "1  30917  1.596761 -0.897180 -0.546978  ... -0.011455 -0.001705   25.00    0.0\n",
              "2  33761  0.287205 -1.282283  0.494269  ... -0.030052  0.106400  461.05    0.0\n",
              "3  48793 -0.674871  1.645901  1.088233  ...  0.249898  0.112974    5.52    0.0\n",
              "4  74996  1.072018 -0.090983 -0.029986  ... -0.107268  0.015234   96.00    0.0\n",
              "\n",
              "[5 rows x 31 columns]"
            ]
          },
          "metadata": {
            "tags": []
          },
          "execution_count": 2
        }
      ]
    },
    {
      "cell_type": "code",
      "metadata": {
        "id": "Z83R61gIzfSp",
        "colab_type": "code",
        "colab": {
          "base_uri": "https://localhost:8080/",
          "height": 52
        },
        "outputId": "c9ba2e9c-f470-46e8-b139-7d4b83cceff5"
      },
      "source": [
        "fraud = df.loc[df['Class'] == 1]\n",
        "non_frauds = df.loc[df['Class'] == 0]\n",
        "print(len(fraud))\n",
        "print(len(non_frauds))"
      ],
      "execution_count": 9,
      "outputs": [
        {
          "output_type": "stream",
          "text": [
            "261\n",
            "130540\n"
          ],
          "name": "stdout"
        }
      ]
    },
    {
      "cell_type": "code",
      "metadata": {
        "id": "AU0Z0Fm59e7z",
        "colab_type": "code",
        "colab": {
          "base_uri": "https://localhost:8080/",
          "height": 283
        },
        "outputId": "58aa9f83-9782-4451-cce7-654027f79fc0"
      },
      "source": [
        "ax = fraud.plot.scatter(x='Amount', y='Class', color='Orange', label='Fraud')\n",
        "non_frauds.plot.scatter(x='Amount', y='Class', color='Blue', label='Normal', ax=ax)\n",
        "plt.show()"
      ],
      "execution_count": 10,
      "outputs": [
        {
          "output_type": "display_data",
          "data": {
            "image/png": "[encoded data removed]",
            "text/plain": [
              "<Figure size 432x288 with 1 Axes>"
            ]
          },
          "metadata": {
            "tags": []
          }
        }
      ]
    },
    {
      "cell_type": "code",
      "metadata": {
        "id": "GEQMpRFK_WC9",
        "colab_type": "code",
        "colab": {}
      },
      "source": [
        "from sklearn import  linear_model\n",
        "from sklearn.model_selection import train_test_split\n"
      ],
      "execution_count": 0,
      "outputs": []
    },
    {
      "cell_type": "code",
      "metadata": {
        "id": "mW_ptuljBFa9",
        "colab_type": "code",
        "colab": {}
      },
      "source": [
        "x = df.iloc[:, :-1]\n",
        "y = df['Class']\n",
        "\n",
        "X_train, X_test, y_train, y_test = train_test_spclit(x, y, test_size=0.35)\n"
      ],
      "execution_count": 0,
      "outputs": []
    },
    {
      "cell_type": "code",
      "metadata": {
        "id": "IsaCr6HsBmG-",
        "colab_type": "code",
        "colab": {}
      },
      "source": [
        "logistic = linear_model.LogisticRegression(C=1e5)#100,000 regulate overfitting\n",
        "logistic.fit(X_train, y_train)\n",
        "print('Score:', logistic.score(X_test, y_test))"
      ],
      "execution_count": 0,
      "outputs": []
    },
    {
      "cell_type": "code",
      "metadata": {
        "id": "cq77Tb3ZDVzG",
        "colab_type": "code",
        "colab": {
          "base_uri": "https://localhost:8080/",
          "height": 330
        },
        "outputId": "46dbcd2a-bbbc-42b7-f413-2100acc35e5f"
      },
      "source": [
        "print(np.any(np.isnan(df)))\n",
        "print(np.all(np.isfinite(df)))\n",
        "\n",
        "#df = df[pd.notnull(df['Gender'])]\n",
        "print(df.head())\n",
        "print(df.tail())"
      ],
      "execution_count": 24,
      "outputs": [
        {
          "output_type": "stream",
          "text": [
            "True\n",
            "False\n",
            "   level_0  index   Time        V1  ...       V27       V28  Amount  Class\n",
            "0        0      0  61768  1.239246  ... -0.018164  0.034611   10.99    0.0\n",
            "1        1      1  30917  1.596761  ... -0.011455 -0.001705   25.00    0.0\n",
            "2        2      2  33761  0.287205  ... -0.030052  0.106400  461.05    0.0\n",
            "3        3      3  48793 -0.674871  ...  0.249898  0.112974    5.52    0.0\n",
            "4        4      4  74996  1.072018  ... -0.107268  0.015234   96.00    0.0\n",
            "\n",
            "[5 rows x 33 columns]\n",
            "        level_0   index   Time        V1  ...       V27       V28  Amount  Class\n",
            "130797   130797  130797  19478 -2.971825  ...  0.338345  0.000422   89.99    0.0\n",
            "130798   130798  130798  50228  0.914928  ...  0.026581  0.037019  159.00    0.0\n",
            "130799   130799  130799  58604 -0.415869  ...  0.261714  0.120148    4.99    0.0\n",
            "130800   130800  130800  68548 -1.594498  ...  0.242987  0.016229  115.15    0.0\n",
            "130801   130801  130801   8593  1.121755  ...  0.056954  0.023828   14.27    0.0\n",
            "\n",
            "[5 rows x 33 columns]\n"
          ],
          "name": "stdout"
        }
      ]
    }
  ]
}