{
  "nbformat": 4,
  "nbformat_minor": 0,
  "metadata": {
    "colab": {
      "name": "Fraud_Detection.ipynb",
      "version": "0.3.2",
      "provenance": [],
      "collapsed_sections": [],
      "include_colab_link": true
    },
    "kernelspec": {
      "name": "python3",
      "display_name": "Python 3"
    }
  },
  "cells": [
    {
      "cell_type": "markdown",
      "metadata": {
        "id": "view-in-github",
        "colab_type": "text"
      },
      "source": [
        "<a href=\"https://colab.research.google.com/github/Deepak5j/FraudDetection/blob/master/Fraud_Detection.ipynb\" target=\"_parent\"><img src=\"https://colab.research.google.com/assets/colab-badge.svg\" alt=\"Open In Colab\"/></a>"
      ]
    },
    {
      "cell_type": "markdown",
      "metadata": {
        "id": "CFciQKjif09X",
        "colab_type": "text"
      },
      "source": [
        "**Fraud Detection**\n",
        "\n",
        "Our Tasks\n",
        "- Explore the dataset/Visualize\n",
        "- Decide which features are important\n",
        "- Perform Machine Learning\n",
        "- Test the model on the testing set"
      ]
    },
    {
      "cell_type": "code",
      "metadata": {
        "id": "lyNAKyLKfkK2",
        "colab_type": "code",
        "colab": {}
      },
      "source": [
        "import numpy as np\n",
        "import sklearn as sk\n",
        "import pandas as pd\n",
        "import matplotlib.pyplot as plt\n",
        "from sklearn.preprocessing import scale #all feature  on same scale, for acuracy\n",
        "import random"
      ],
      "execution_count": 0,
      "outputs": []
    },
    {
      "cell_type": "code",
      "metadata": {
        "id": "ipZaYcd4hPxj",
        "colab_type": "code",
        "colab": {
          "base_uri": "https://localhost:8080/",
          "height": 244
        },
        "outputId": "75d4f905-da8c-48c8-e9a9-36843decef98"
      },
      "source": [
        "df = pd.read_csv('creditcard.csv', low_memory=False)\n",
        "df = df.sample(frac=1).reset_index(drop=True)\n",
        "print(df.shape)\n",
        "df.head()"
      ],
      "execution_count": 80,
      "outputs": [
        {
          "output_type": "stream",
          "text": [
            "(284807, 31)\n"
          ],
          "name": "stdout"
        },
        {
          "output_type": "execute_result",
          "data": {
            "text/html": [
              "<div>\n",
              "<style scoped>\n",
              "    .dataframe tbody tr th:only-of-type {\n",
              "        vertical-align: middle;\n",
              "    }\n",
              "\n",
              "    .dataframe tbody tr th {\n",
              "        vertical-align: top;\n",
              "    }\n",
              "\n",
              "    .dataframe thead th {\n",
              "        text-align: right;\n",
              "    }\n",
              "</style>\n",
              "<table border=\"1\" class=\"dataframe\">\n",
              "  <thead>\n",
              "    <tr style=\"text-align: right;\">\n",
              "      <th></th>\n",
              "      <th>Time</th>\n",
              "      <th>V1</th>\n",
              "      <th>V2</th>\n",
              "      <th>V3</th>\n",
              "      <th>V4</th>\n",
              "      <th>V5</th>\n",
              "      <th>V6</th>\n",
              "      <th>V7</th>\n",
              "      <th>V8</th>\n",
              "      <th>V9</th>\n",
              "      <th>V10</th>\n",
              "      <th>V11</th>\n",
              "      <th>V12</th>\n",
              "      <th>V13</th>\n",
              "      <th>V14</th>\n",
              "      <th>V15</th>\n",
              "      <th>V16</th>\n",
              "      <th>V17</th>\n",
              "      <th>V18</th>\n",
              "      <th>V19</th>\n",
              "      <th>V20</th>\n",
              "      <th>V21</th>\n",
              "      <th>V22</th>\n",
              "      <th>V23</th>\n",
              "      <th>V24</th>\n",
              "      <th>V25</th>\n",
              "      <th>V26</th>\n",
              "      <th>V27</th>\n",
              "      <th>V28</th>\n",
              "      <th>Amount</th>\n",
              "      <th>Class</th>\n",
              "    </tr>\n",
              "  </thead>\n",
              "  <tbody>\n",
              "    <tr>\n",
              "      <th>0</th>\n",
              "      <td>46472.0</td>\n",
              "      <td>-1.729480</td>\n",
              "      <td>-0.643126</td>\n",
              "      <td>1.762726</td>\n",
              "      <td>-0.779430</td>\n",
              "      <td>-0.527628</td>\n",
              "      <td>1.807003</td>\n",
              "      <td>-0.416822</td>\n",
              "      <td>1.290253</td>\n",
              "      <td>0.944199</td>\n",
              "      <td>-1.751217</td>\n",
              "      <td>-0.809885</td>\n",
              "      <td>-0.144004</td>\n",
              "      <td>-2.069741</td>\n",
              "      <td>-0.088072</td>\n",
              "      <td>-0.276376</td>\n",
              "      <td>-1.199129</td>\n",
              "      <td>1.511550</td>\n",
              "      <td>-2.031776</td>\n",
              "      <td>-1.731981</td>\n",
              "      <td>-0.031863</td>\n",
              "      <td>0.296196</td>\n",
              "      <td>0.674445</td>\n",
              "      <td>0.259518</td>\n",
              "      <td>-0.920810</td>\n",
              "      <td>-0.219966</td>\n",
              "      <td>1.164257</td>\n",
              "      <td>-0.081738</td>\n",
              "      <td>-0.046960</td>\n",
              "      <td>161.84</td>\n",
              "      <td>0</td>\n",
              "    </tr>\n",
              "    <tr>\n",
              "      <th>1</th>\n",
              "      <td>86619.0</td>\n",
              "      <td>-0.614964</td>\n",
              "      <td>1.537793</td>\n",
              "      <td>-0.033658</td>\n",
              "      <td>-0.438880</td>\n",
              "      <td>1.360029</td>\n",
              "      <td>-0.751056</td>\n",
              "      <td>1.538492</td>\n",
              "      <td>-0.561772</td>\n",
              "      <td>-0.122889</td>\n",
              "      <td>-0.585450</td>\n",
              "      <td>-0.295134</td>\n",
              "      <td>0.308655</td>\n",
              "      <td>1.000938</td>\n",
              "      <td>-1.464389</td>\n",
              "      <td>0.095767</td>\n",
              "      <td>-0.452204</td>\n",
              "      <td>0.578422</td>\n",
              "      <td>-0.026496</td>\n",
              "      <td>0.418562</td>\n",
              "      <td>0.204108</td>\n",
              "      <td>-0.198319</td>\n",
              "      <td>-0.285150</td>\n",
              "      <td>-0.267759</td>\n",
              "      <td>0.651190</td>\n",
              "      <td>0.081610</td>\n",
              "      <td>-0.475545</td>\n",
              "      <td>-0.189068</td>\n",
              "      <td>0.016859</td>\n",
              "      <td>7.38</td>\n",
              "      <td>0</td>\n",
              "    </tr>\n",
              "    <tr>\n",
              "      <th>2</th>\n",
              "      <td>147782.0</td>\n",
              "      <td>1.271450</td>\n",
              "      <td>-1.940979</td>\n",
              "      <td>-1.067839</td>\n",
              "      <td>0.756476</td>\n",
              "      <td>-0.770753</td>\n",
              "      <td>0.724987</td>\n",
              "      <td>-0.302194</td>\n",
              "      <td>0.114809</td>\n",
              "      <td>-0.372701</td>\n",
              "      <td>0.881441</td>\n",
              "      <td>0.009893</td>\n",
              "      <td>0.640159</td>\n",
              "      <td>0.040754</td>\n",
              "      <td>0.105874</td>\n",
              "      <td>-0.916174</td>\n",
              "      <td>-1.143047</td>\n",
              "      <td>-0.489072</td>\n",
              "      <td>1.487113</td>\n",
              "      <td>-0.614162</td>\n",
              "      <td>0.174172</td>\n",
              "      <td>-0.482516</td>\n",
              "      <td>-1.736581</td>\n",
              "      <td>0.130072</td>\n",
              "      <td>0.100766</td>\n",
              "      <td>-0.600041</td>\n",
              "      <td>-1.129271</td>\n",
              "      <td>-0.008651</td>\n",
              "      <td>0.038294</td>\n",
              "      <td>411.18</td>\n",
              "      <td>0</td>\n",
              "    </tr>\n",
              "    <tr>\n",
              "      <th>3</th>\n",
              "      <td>158990.0</td>\n",
              "      <td>0.776148</td>\n",
              "      <td>0.585031</td>\n",
              "      <td>-0.716941</td>\n",
              "      <td>-0.360733</td>\n",
              "      <td>0.574462</td>\n",
              "      <td>-0.349398</td>\n",
              "      <td>0.151706</td>\n",
              "      <td>-0.800480</td>\n",
              "      <td>-0.041904</td>\n",
              "      <td>-0.677864</td>\n",
              "      <td>1.182002</td>\n",
              "      <td>0.567235</td>\n",
              "      <td>-0.700288</td>\n",
              "      <td>-0.503022</td>\n",
              "      <td>-0.710278</td>\n",
              "      <td>0.596026</td>\n",
              "      <td>0.278077</td>\n",
              "      <td>0.081001</td>\n",
              "      <td>-0.275734</td>\n",
              "      <td>-0.328518</td>\n",
              "      <td>0.427835</td>\n",
              "      <td>-1.264508</td>\n",
              "      <td>0.111451</td>\n",
              "      <td>0.586414</td>\n",
              "      <td>0.490681</td>\n",
              "      <td>0.195993</td>\n",
              "      <td>-0.000076</td>\n",
              "      <td>0.086993</td>\n",
              "      <td>1.29</td>\n",
              "      <td>0</td>\n",
              "    </tr>\n",
              "    <tr>\n",
              "      <th>4</th>\n",
              "      <td>140673.0</td>\n",
              "      <td>2.300013</td>\n",
              "      <td>-1.400928</td>\n",
              "      <td>-0.972824</td>\n",
              "      <td>-1.473077</td>\n",
              "      <td>-1.410575</td>\n",
              "      <td>-1.046066</td>\n",
              "      <td>-1.051795</td>\n",
              "      <td>-0.244052</td>\n",
              "      <td>-1.057016</td>\n",
              "      <td>1.612871</td>\n",
              "      <td>-1.320439</td>\n",
              "      <td>-1.419827</td>\n",
              "      <td>-0.693059</td>\n",
              "      <td>-0.173376</td>\n",
              "      <td>-0.090406</td>\n",
              "      <td>-0.537260</td>\n",
              "      <td>0.537133</td>\n",
              "      <td>0.028665</td>\n",
              "      <td>-0.071813</td>\n",
              "      <td>-0.504337</td>\n",
              "      <td>-0.188189</td>\n",
              "      <td>-0.074258</td>\n",
              "      <td>0.220499</td>\n",
              "      <td>-0.157334</td>\n",
              "      <td>-0.188006</td>\n",
              "      <td>-0.150537</td>\n",
              "      <td>0.000524</td>\n",
              "      <td>-0.054326</td>\n",
              "      <td>20.00</td>\n",
              "      <td>0</td>\n",
              "    </tr>\n",
              "  </tbody>\n",
              "</table>\n",
              "</div>"
            ],
            "text/plain": [
              "       Time        V1        V2        V3  ...       V27       V28  Amount  Class\n",
              "0   46472.0 -1.729480 -0.643126  1.762726  ... -0.081738 -0.046960  161.84      0\n",
              "1   86619.0 -0.614964  1.537793 -0.033658  ... -0.189068  0.016859    7.38      0\n",
              "2  147782.0  1.271450 -1.940979 -1.067839  ... -0.008651  0.038294  411.18      0\n",
              "3  158990.0  0.776148  0.585031 -0.716941  ... -0.000076  0.086993    1.29      0\n",
              "4  140673.0  2.300013 -1.400928 -0.972824  ...  0.000524 -0.054326   20.00      0\n",
              "\n",
              "[5 rows x 31 columns]"
            ]
          },
          "metadata": {
            "tags": []
          },
          "execution_count": 80
        }
      ]
    },
    {
      "cell_type": "code",
      "metadata": {
        "id": "Z83R61gIzfSp",
        "colab_type": "code",
        "colab": {
          "base_uri": "https://localhost:8080/",
          "height": 52
        },
        "outputId": "b8d2a9af-edc9-4068-ceb7-3d4549669acf"
      },
      "source": [
        "fraud = df.loc[df['Class'] == 1]\n",
        "non_frauds = df.loc[df['Class'] == 0]\n",
        "print(len(fraud))\n",
        "print(len(non_frauds))"
      ],
      "execution_count": 81,
      "outputs": [
        {
          "output_type": "stream",
          "text": [
            "492\n",
            "284315\n"
          ],
          "name": "stdout"
        }
      ]
    },
    {
      "cell_type": "code",
      "metadata": {
        "id": "AU0Z0Fm59e7z",
        "colab_type": "code",
        "colab": {
          "base_uri": "https://localhost:8080/",
          "height": 283
        },
        "outputId": "202a2a32-e11c-467f-f4e9-876abfd7c5fb"
      },
      "source": [
        "ax = fraud.plot.scatter(x='Amount', y='Class', color='Orange', label='Fraud')\n",
        "non_frauds.plot.scatter(x='Amount', y='Class', color='Blue', label='Normal', ax=ax)\n",
        "plt.show()"
      ],
      "execution_count": 82,
      "outputs": [
        {
          "output_type": "display_data",
          "data": {
            "image/png": "[encoded data removed]",
            "text/plain": [
              "<Figure size 432x288 with 1 Axes>"
            ]
          },
          "metadata": {
            "tags": []
          }
        }
      ]
    },
    {
      "cell_type": "code",
      "metadata": {
        "id": "GEQMpRFK_WC9",
        "colab_type": "code",
        "colab": {}
      },
      "source": [
        "from sklearn import  linear_model\n",
        "from sklearn.model_selection import train_test_split"
      ],
      "execution_count": 0,
      "outputs": []
    },
    {
      "cell_type": "code",
      "metadata": {
        "id": "mW_ptuljBFa9",
        "colab_type": "code",
        "colab": {}
      },
      "source": [
        "x = df.iloc[:, :-1]\n",
        "y = df['Class']\n",
        "\n",
        "X_train, X_test, y_train, y_test = train_test_split(x, y, test_size=0.35)\n"
      ],
      "execution_count": 0,
      "outputs": []
    },
    {
      "cell_type": "code",
      "metadata": {
        "id": "IsaCr6HsBmG-",
        "colab_type": "code",
        "colab": {
          "base_uri": "https://localhost:8080/",
          "height": 89
        },
        "outputId": "e71120f3-4417-408f-af34-9f49f260c919"
      },
      "source": [
        "logistic = linear_model.LogisticRegression(C=1e5)#100,000 regulate overfitting\n",
        "logistic.fit(X_train, y_train)\n",
        "print('Score:', logistic.score(X_test, y_test))"
      ],
      "execution_count": 90,
      "outputs": [
        {
          "output_type": "stream",
          "text": [
            "/usr/local/lib/python3.6/dist-packages/sklearn/linear_model/logistic.py:432: FutureWarning: Default solver will be changed to 'lbfgs' in 0.22. Specify a solver to silence this warning.\n",
            "  FutureWarning)\n"
          ],
          "name": "stderr"
        },
        {
          "output_type": "stream",
          "text": [
            "Score: 0.9989566927159095\n"
          ],
          "name": "stdout"
        }
      ]
    },
    {
      "cell_type": "code",
      "metadata": {
        "id": "G-XI8eI9X3YF",
        "colab_type": "code",
        "colab": {
          "base_uri": "https://localhost:8080/",
          "height": 34
        },
        "outputId": "a0b5c7ab-9012-49ec-e1de-9763d228680a"
      },
      "source": [
        "y_predicted = np.array(logistic.predict(X_test))\n",
        "print(y_predicted)"
      ],
      "execution_count": 91,
      "outputs": [
        {
          "output_type": "stream",
          "text": [
            "[0 0 0 ... 0 0 0]\n"
          ],
          "name": "stdout"
        }
      ]
    }
  ]
}